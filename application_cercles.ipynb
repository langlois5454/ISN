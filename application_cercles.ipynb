{
 "cells": [
  {
   "cell_type": "markdown",
   "metadata": {
    "slideshow": {
     "slide_type": "slide"
    }
   },
   "source": [
    "# Consigne\n",
    "Créez une application tkinter qui permet de dessiner des cercles sur un espace, de centre et de rayon différents. On pourra travailler sur trois versions :\n",
    "* Dans une première version, le centre et le rayon pourront être indiqués avec 3 Entry, et le dessin pourra être lancé via un bouton.\n",
    "* Dans un deuxième temps, il faudra plutôt permettre de placer un cercle en cliquant dans la zone de travail.\n",
    "* Dans un troisième temps, l'utilisateur devra pouvoir utiliser le drag-and-drop pour spécifier le rayon du cercle. Plus précisément, pour poser un cercle sur le plan de travail, il faut cliquer dans cette zone, puis, tout en maintenant le bouton gauche appuyé, il faut déplacer le curseur de la souris. La relachement du bouton gauche de la souris indique alors le rayon, et lance le dessin.  \n",
    "\n",
    "La taille de la zone de travail peut être fixée à 100 pixels de large et 100 pixels de hauteur. Les cercles peuvent être définis en dehors de cette zone (ce qui n'est possible que dans les versions 1 et 2).\n",
    "\n",
    "L'application doit proposer les fonctionnalités suivantes :\n",
    "* sauvegarder l'image créée sous la forme d'une image jpeg. On pourra utiliser la bibliothèque PIL pour cela.\n",
    "\n",
    "On pourra penser optionnellement aux fonctionnalités suivantes, mais elles ne seront pas développée dans ce notebook :\n",
    "* préciser la couler du cercle\n",
    "* permettre une couleur de remplissage des cercles (qui deviennents des disques !)\n",
    "* permettre de changer l'ordre de dessin des cercles (équivallent des \"Placer devant\", \"Placer derrière\", \"Reculer\", \"Avancer\" des outils de dessin, ou de présentation assistée par ordinateur.\n",
    "* déplacer les cercles\n",
    "\n",
    "\n",
    "\n"
   ]
  },
  {
   "cell_type": "markdown",
   "metadata": {},
   "source": [
    "# Modèle du monde\n",
    "Nous allons commencer par définir comment nous allons décrire les élements à manipuler.\n",
    "Nous devons manipuler des cercles. Il est nécessaire de mémoriser l'ensemble des cercles car il faudra redessiner tous ces cercles quand la fenêtre sera iconifiée, en partie cachée, puis de nouveau visible.\n",
    "\n",
    "Un cercle est défini par 3 valeurs : abscisse, ordonnée, et rayon.\n",
    "\n",
    "En Python, cela peut être représenté par un tuple :"
   ]
  },
  {
   "cell_type": "code",
   "execution_count": 32,
   "metadata": {},
   "outputs": [],
   "source": [
    "cercle = (23,56,78)"
   ]
  },
  {
   "cell_type": "markdown",
   "metadata": {},
   "source": [
    "Un affiche simple d'une information de ce cerle peut être :"
   ]
  },
  {
   "cell_type": "code",
   "execution_count": 33,
   "metadata": {},
   "outputs": [
    {
     "name": "stdout",
     "output_type": "stream",
     "text": [
      "la rayon du cercle est :  78\n"
     ]
    }
   ],
   "source": [
    "print(\"la rayon du cercle est : \",cercle[2])"
   ]
  },
  {
   "cell_type": "markdown",
   "metadata": {},
   "source": [
    "Un affichage complet (en utilisant format) peut être :"
   ]
  },
  {
   "cell_type": "code",
   "execution_count": 34,
   "metadata": {},
   "outputs": [
    {
     "name": "stdout",
     "output_type": "stream",
     "text": [
      "cercle :\n",
      "   abscisse : 23\n",
      "   ordonnée : 56\n",
      "   rayon    : 78\n"
     ]
    }
   ],
   "source": [
    "print(\"cercle :\\n   abscisse : {}\\n   ordonnée : {}\\n   rayon    : {}\".format(cercle[0],cercle[1],cercle[2]))"
   ]
  },
  {
   "cell_type": "markdown",
   "metadata": {},
   "source": [
    "Mais, comme les deux informations \"abscisse\" et \"ordonnée\" en forme en fait une seule : \"centre\", je choisis de rassembler l'abscisse et l'ordonnée en un tuple et le cercle est alors défini par ce tuple plus le rayon :"
   ]
  },
  {
   "cell_type": "code",
   "execution_count": 35,
   "metadata": {},
   "outputs": [
    {
     "name": "stdout",
     "output_type": "stream",
     "text": [
      "la rayon du cercle est :  78\n",
      "cercle :\n",
      "   abscisse : 23\n",
      "   ordonnée : 56\n",
      "   rayon    : 78\n"
     ]
    }
   ],
   "source": [
    "cercle = ((23,56),78)\n",
    "print(\"la rayon du cercle est : \",cercle[1])\n",
    "print(\"cercle :\\n   abscisse : {}\\n   ordonnée : {}\\n   rayon    : {}\".format(cercle[0][0],cercle[0][1],cercle[1]))"
   ]
  },
  {
   "cell_type": "markdown",
   "metadata": {},
   "source": [
    "On peut aussi penser à une produisant la description texte compacte d'un cercle :"
   ]
  },
  {
   "cell_type": "code",
   "execution_count": 36,
   "metadata": {},
   "outputs": [
    {
     "name": "stdout",
     "output_type": "stream",
     "text": [
      "(c=(23,56),r=78)\n"
     ]
    }
   ],
   "source": [
    "def descriptionCercle(c):\n",
    "    return \"(c=({},{}),r={})\".format(c[0][0],c[0][1],c[1])\n",
    "\n",
    "print(descriptionCercle(cercle))"
   ]
  },
  {
   "cell_type": "markdown",
   "metadata": {},
   "source": [
    "J'ai réfléchi à ajouter une information supplémentaire au cercle : son nom. Cela aurait permis d'enrichir l'affichage (\"le centre du cercle X est...\"). Mais comme l'application n'a pas besoin de cette information, je ne suis pas allée plus loin dans cette direction."
   ]
  },
  {
   "cell_type": "markdown",
   "metadata": {},
   "source": [
    "L'ensemble des cercles sera stocké dans une liste Python :"
   ]
  },
  {
   "cell_type": "code",
   "execution_count": 37,
   "metadata": {},
   "outputs": [
    {
     "name": "stdout",
     "output_type": "stream",
     "text": [
      "(c=(23,56),r=78)\n",
      "(c=(0,20),r=43)\n"
     ]
    }
   ],
   "source": [
    "listeCercles = [((23,56),78),((0,20),43)]\n",
    "\n",
    "for c in listeCercles:\n",
    "    print(descriptionCercle(c))\n"
   ]
  },
  {
   "cell_type": "markdown",
   "metadata": {},
   "source": [
    "Mais bon, c'était juste pour vous montrer un exemple ; au lancement de l'application, il n'y a aucun cercle. Donc la liste est vide : "
   ]
  },
  {
   "cell_type": "code",
   "execution_count": 38,
   "metadata": {},
   "outputs": [],
   "source": [
    "listeCercles = []"
   ]
  },
  {
   "cell_type": "markdown",
   "metadata": {},
   "source": [
    "# L'interface\n",
    "L'interface va consister en\n",
    "* un Canvas de 1000x1000 pour dessiner les cercles\n",
    "* une ligne de trois Entry pour entrer les informations d'un cercle\n",
    "* un bouton pour valider les informations, et dessiner le cercle\n",
    "\n",
    "Commençons par créer la fenêtre qui va accueillir tout cela :"
   ]
  },
  {
   "cell_type": "code",
   "execution_count": 39,
   "metadata": {},
   "outputs": [
    {
     "data": {
      "text/plain": [
       "''"
      ]
     },
     "execution_count": 39,
     "metadata": {},
     "output_type": "execute_result"
    }
   ],
   "source": [
    "from tkinter import *\n",
    "fen  = Tk()\n",
    "fen.title(\"(vraiment) Petit logiciel de dessin\")"
   ]
  },
  {
   "cell_type": "markdown",
   "metadata": {},
   "source": [
    "Maintenant le Canvas :"
   ]
  },
  {
   "cell_type": "code",
   "execution_count": 40,
   "metadata": {},
   "outputs": [],
   "source": [
    "fen.title(\"Le jeu du disque\")\n",
    "\n",
    "zoneDessin = Canvas(fen,width=800,height=800)\n",
    "\n",
    "zoneDessin.pack()"
   ]
  },
  {
   "cell_type": "markdown",
   "metadata": {},
   "source": [
    "\n",
    "Pour les 3 Entry, je choisis de les présenter sur une seule ligne en dessous du Canvas. Pour cela, je vais les intégrer dans une Frame. Puis je vais placer chaque Entry de gauche à droite dans cette Frame. Pour la lisibilité pour l'utilisateur, j'insère aussi dans les Frame des Label pour indiquer à quoi sert chaque Entry :"
   ]
  },
  {
   "cell_type": "code",
   "execution_count": 41,
   "metadata": {},
   "outputs": [],
   "source": [
    "## La Frame englobante\n",
    "f = Frame(fen) ## fen : f sera packée dans fen\n",
    "\n",
    "## abscisse\n",
    "entreeAbscisse = Entry(f) ## argument f pour spécifier que ces widgets seront \"packées\" dans f\n",
    "labelAbscisse = Label(f,text=\"Abscisse : \")\n",
    "labelAbscisse.pack(side=LEFT) ## LEFT : pour insertion horizontale de gauche à droite\n",
    "entreeAbscisse.pack(side=LEFT)\n",
    "\n",
    "## ordonnee\n",
    "entreeOrdonnee = Entry(f)\n",
    "labelOrdonnee = Label(f,text=\"Ordonnée : \")\n",
    "labelOrdonnee.pack(side=LEFT)\n",
    "entreeOrdonnee.pack(side=LEFT)\n",
    "\n",
    "## rayon\n",
    "entreeRayon = Entry(f)\n",
    "labelRayon = Label(f,text=\"Rayon : \")\n",
    "labelRayon.pack(side=LEFT)\n",
    "entreeRayon.pack(side=LEFT)\n",
    "\n",
    "## ne pas oublier de packer f\n",
    "f.pack()\n"
   ]
  },
  {
   "cell_type": "markdown",
   "metadata": {},
   "source": [
    "On s'occupe maintenant du bouton :"
   ]
  },
  {
   "cell_type": "code",
   "execution_count": 42,
   "metadata": {},
   "outputs": [],
   "source": [
    "boutonInsert = Button(fen,text=\"Ajouter\")\n",
    "boutonInsert.pack()"
   ]
  },
  {
   "cell_type": "markdown",
   "metadata": {},
   "source": [
    "Voilà, l'interface est prête (si ce n'est qu'elle ne fait rien). Pour vous en convaincre, vous pouvez copier coller l'ensemble du code ci-dessus dans un seul fichier et ajouter :\n",
    "\n",
    "`fen.mainloop()`\n",
    "\n",
    "Il reste maintenant à lier le bouton `Ajouter` à une fonction qui va lire le contenu des 3 Entry et qui va ajouter un cercle à la liste listeCercles, et qui va redessiner les cercles dans le Canvas.\n"
   ]
  },
  {
   "cell_type": "markdown",
   "metadata": {},
   "source": [
    "# Lien entre interface et modèle"
   ]
  },
  {
   "cell_type": "markdown",
   "metadata": {},
   "source": [
    "Commençons par la procédure qui dessine les cercles dans le Canvas en fonction du contenu de la liste `listeCercles`"
   ]
  },
  {
   "cell_type": "code",
   "execution_count": 43,
   "metadata": {},
   "outputs": [],
   "source": [
    "def redessineCanvas(zone,listeCercles):\n",
    "    zone.delete(ALL)\n",
    "    for cercle in listeCercles:\n",
    "        rayon = cercle[1]\n",
    "        centre = cercle[0]\n",
    "        xCentre = centre[0]\n",
    "        yCentre = centre[1]\n",
    "        ## a partir du centre et du rayon, je calcule les coordonnees haut gauche (hg) et bas droit (bd)\n",
    "        ## du carre qui englobe le cercle\n",
    "        xhg = xCentre-rayon\n",
    "        yhg = yCentre-rayon\n",
    "        xbd = xCentre+rayon\n",
    "        ybd = yCentre+rayon\n",
    "        zone.create_oval(xhg,yhg,xbd,ybd)"
   ]
  },
  {
   "cell_type": "markdown",
   "metadata": {},
   "source": [
    "Dans la fonction ci-dessus, j'aurais pu ne pas donner d'argument à `redessineCanvas` et directement accéder aux variables `listeCercles` et `zoneDessin`. Mais une bonne pratique et d'interdire à une fonction d'accéder aux variables globales. En effet, cela permettra plus facilement, pour un futur besoin, de copier-coller cette fonction pour un autre programme, qui n'aurait pas défini en global les variables `listeCercles` et `zoneDessin`. "
   ]
  },
  {
   "cell_type": "markdown",
   "metadata": {},
   "source": [
    "Maintenant, je crée la fonction qui `ajouteCercle` qui va être associée au bouton `Ajouter`. Cette fonction ne doit prendre aucun argument. Elle va donc modifier les variables globales."
   ]
  },
  {
   "cell_type": "code",
   "execution_count": 44,
   "metadata": {},
   "outputs": [],
   "source": [
    "def ajouteCercle():\n",
    "    ## lecture des 3 entrees (Entry)\n",
    "    abscisseCentre = int(entreeAbscisse.get())\n",
    "    ordonneeCentre = int(entreeOrdonnee.get())\n",
    "    rayon = int(entreeRayon.get())\n",
    "    ## ajout du cercle à la liste\n",
    "    listeCercles.append(((abscisseCentre,ordonneeCentre),rayon))\n",
    "    ## rafraichissement du Canvas\n",
    "    redessineCanvas(zoneDessin,listeCercles)"
   ]
  },
  {
   "cell_type": "markdown",
   "metadata": {},
   "source": [
    "Vous aurez remarqué que cette fonction ne vérifie pas que les entrées données par l'utilisateur sont correctes. Il faudrait vérifier que les Entry ne sont pas vides et qu'elles contiennent des valeurs entières non négatives."
   ]
  },
  {
   "cell_type": "markdown",
   "metadata": {},
   "source": [
    "Il reste à lier la fonction `ajouteCercle` au bouton :"
   ]
  },
  {
   "cell_type": "code",
   "execution_count": 45,
   "metadata": {},
   "outputs": [],
   "source": [
    "boutonInsert.config(command=ajouteCercle)"
   ]
  },
  {
   "cell_type": "markdown",
   "metadata": {},
   "source": [
    "Pour terminer, on lance la boucle d'écoute des événements :"
   ]
  },
  {
   "cell_type": "code",
   "execution_count": 46,
   "metadata": {},
   "outputs": [],
   "source": [
    "fen.mainloop()"
   ]
  }
 ],
 "metadata": {
  "kernelspec": {
   "display_name": "Python 3",
   "language": "python",
   "name": "python3"
  },
  "language_info": {
   "codemirror_mode": {
    "name": "ipython",
    "version": 3
   },
   "file_extension": ".py",
   "mimetype": "text/x-python",
   "name": "python",
   "nbconvert_exporter": "python",
   "pygments_lexer": "ipython3",
   "version": "3.5.0"
  }
 },
 "nbformat": 4,
 "nbformat_minor": 2
}
