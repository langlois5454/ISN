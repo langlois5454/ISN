{
 "cells": [
  {
   "cell_type": "markdown",
   "metadata": {
    "slideshow": {
     "slide_type": "slide"
    }
   },
   "source": [
    "# Mini logiciel de dessin : consigne\n",
    "Créez une application tkinter qui permet de dessiner des cercles de centre et de rayon différents sur un espace de dessin. On pourra travailler sur trois versions :\n",
    "* Dans une première version, le centre et le rayon pourront être indiqués avec 3 Entry, et le dessin pourra être lancé via un bouton.\n",
    "* Dans un deuxième temps, il faudra plutôt permettre de placer un cercle en cliquant dans la zone de travail.\n",
    "* Dans un troisième temps, l'utilisateur devra pouvoir utiliser le drag-and-drop pour spécifier le rayon du cercle. Plus précisément, pour poser un cercle sur le plan de travail, il faut cliquer dans cette zone, puis, tout en maintenant le bouton gauche appuyé, il faut déplacer le curseur de la souris. Le relachement du bouton gauche de la souris indique alors le rayon, et lance le dessin.  \n",
    "\n",
    "La taille de la zone de travail peut être fixée à 800 pixels de large et 800 pixels de hauteur. Les cercles peuvent être définis en dehors de cette zone (sauf le centre qui ne peut être défini en dehors de la zone de travail pour les versions 2 et 3).\n",
    "\n",
    "L'application doit proposer les fonctionnalités suivantes :\n",
    "* sauvegarder l'image créée sous la forme d'un fichier image. On pourra utiliser la bibliothèque PIL pour cela."
   ]
  },
  {
   "cell_type": "markdown",
   "metadata": {},
   "source": [
    "# Modèle du monde\n",
    "Nous allons commencer par définir comment nous allons décrire les élements à manipuler.\n",
    "Nous devons manipuler des cercles. Il est nécessaire de mémoriser l'ensemble des cercles car la fonctionnalité d'export sous forme d'image demandera de relire la liste des cercles pour dessiner dans l'image. \n",
    "\n",
    "Un cercle est défini par 3 valeurs : abscisse, ordonnée, et rayon.\n",
    "\n",
    "En Python, cela peut être représenté par un tuple :"
   ]
  },
  {
   "cell_type": "code",
   "execution_count": 24,
   "metadata": {},
   "outputs": [],
   "source": [
    "cercle = (23,56,78)"
   ]
  },
  {
   "cell_type": "markdown",
   "metadata": {},
   "source": [
    "Un affiche simple d'une information de ce cercle peut être :"
   ]
  },
  {
   "cell_type": "code",
   "execution_count": 25,
   "metadata": {},
   "outputs": [
    {
     "name": "stdout",
     "output_type": "stream",
     "text": [
      "le rayon du cercle est :  78\n"
     ]
    }
   ],
   "source": [
    "print(\"le rayon du cercle est : \",cercle[2])"
   ]
  },
  {
   "cell_type": "markdown",
   "metadata": {},
   "source": [
    "Un affichage complet (en utilisant format) peut être :"
   ]
  },
  {
   "cell_type": "code",
   "execution_count": 26,
   "metadata": {},
   "outputs": [
    {
     "name": "stdout",
     "output_type": "stream",
     "text": [
      "cercle :\n",
      "   abscisse : 23\n",
      "   ordonnée : 56\n",
      "   rayon    : 78\n"
     ]
    }
   ],
   "source": [
    "print(\"cercle :\\n   abscisse : {}\\n   ordonnée : {}\\n   rayon    : {}\".format(cercle[0],cercle[1],cercle[2]))"
   ]
  },
  {
   "cell_type": "markdown",
   "metadata": {},
   "source": [
    "Mais, comme les deux informations \"abscisse\" et \"ordonnée\" en forme en fait une seule : \"centre\", je choisis de rassembler l'abscisse et l'ordonnée en un `tuple` et le cercle est alors défini par ce `tuple` plus le rayon :"
   ]
  },
  {
   "cell_type": "code",
   "execution_count": 27,
   "metadata": {},
   "outputs": [
    {
     "name": "stdout",
     "output_type": "stream",
     "text": [
      "le rayon du cercle est :  78\n",
      "cercle :\n",
      "   abscisse : 23\n",
      "   ordonnée : 56\n",
      "   rayon    : 78\n"
     ]
    }
   ],
   "source": [
    "cercle = ((23,56),78)\n",
    "print(\"le rayon du cercle est : \",cercle[1])\n",
    "print(\"cercle :\\n   abscisse : {}\\n   ordonnée : {}\\n   rayon    : {}\".format(cercle[0][0],cercle[0][1],cercle[1]))"
   ]
  },
  {
   "cell_type": "markdown",
   "metadata": {},
   "source": [
    "On peut aussi penser à une fonction produisant la description texte compacte d'un cercle :"
   ]
  },
  {
   "cell_type": "code",
   "execution_count": 28,
   "metadata": {},
   "outputs": [
    {
     "name": "stdout",
     "output_type": "stream",
     "text": [
      "(c=(23,56),r=78)\n"
     ]
    }
   ],
   "source": [
    "def descriptionCercle(c):\n",
    "    return \"(c=({},{}),r={})\".format(c[0][0],c[0][1],c[1])\n",
    "\n",
    "print(descriptionCercle(cercle))"
   ]
  },
  {
   "cell_type": "markdown",
   "metadata": {},
   "source": [
    "J'ai réfléchi à ajouter une information supplémentaire au cercle : son nom. Cela aurait permis d'enrichir l'affichage (\"le centre du cercle X est...\"). Mais comme l'application n'a pas besoin de cette information, je ne suis pas allé plus loin dans cette direction."
   ]
  },
  {
   "cell_type": "markdown",
   "metadata": {},
   "source": [
    "L'ensemble des cercles sera stocké dans une liste `Python` :"
   ]
  },
  {
   "cell_type": "code",
   "execution_count": 29,
   "metadata": {},
   "outputs": [
    {
     "name": "stdout",
     "output_type": "stream",
     "text": [
      "(c=(23,56),r=78)\n",
      "(c=(0,20),r=43)\n"
     ]
    }
   ],
   "source": [
    "listeCercles = [((23,56),78),((0,20),43)]\n",
    "\n",
    "for c in listeCercles:\n",
    "    print(descriptionCercle(c))\n"
   ]
  },
  {
   "cell_type": "markdown",
   "metadata": {},
   "source": [
    "Mais bon, c'était juste pour vous montrer un exemple ; au lancement de l'application, il n'y a aucun cercle. Donc la liste est vide : "
   ]
  },
  {
   "cell_type": "code",
   "execution_count": 30,
   "metadata": {},
   "outputs": [],
   "source": [
    "listeCercles = []"
   ]
  },
  {
   "cell_type": "markdown",
   "metadata": {},
   "source": [
    "# L'interface (version 1)\n",
    "L'interface va consister en\n",
    "* un `Canvas` de 800x800 pour dessiner les cercles\n",
    "* une ligne de trois `Entry` pour entrer les informations d'un cercle\n",
    "* un bouton `Button` pour valider les informations, et dessiner le cercle\n",
    "\n",
    "Commençons par créer la fenêtre qui va accueillir tout cela :"
   ]
  },
  {
   "cell_type": "code",
   "execution_count": 31,
   "metadata": {},
   "outputs": [
    {
     "data": {
      "text/plain": [
       "''"
      ]
     },
     "execution_count": 31,
     "metadata": {},
     "output_type": "execute_result"
    }
   ],
   "source": [
    "from tkinter import * ## importation de la librairie\n",
    "fen  = Tk()           ## creation de la fenetre\n",
    "fen.title(\"(vraiment) Petit logiciel de dessin\")"
   ]
  },
  {
   "cell_type": "markdown",
   "metadata": {},
   "source": [
    "Maintenant le Canvas :"
   ]
  },
  {
   "cell_type": "code",
   "execution_count": 32,
   "metadata": {},
   "outputs": [],
   "source": [
    "zoneDessin = Canvas(fen,width=800,height=800) ## Creation d'un Canvas dans fen\n",
    "\n",
    "zoneDessin.pack() ## placement du Canvas dans fen"
   ]
  },
  {
   "cell_type": "markdown",
   "metadata": {},
   "source": [
    "\n",
    "Pour les 3 `Entry`, je choisis de les présenter sur une seule ligne en dessous du `Canvas`. Pour cela, je vais les intégrer dans une `Frame`. Puis je vais placer chaque `Entry` de gauche à droite dans cette `Frame`. Pour la lisibilité pour l'utilisateur, j'insère aussi dans la `Frame` des `Label` pour indiquer à quoi sert chaque `Entry` :"
   ]
  },
  {
   "cell_type": "code",
   "execution_count": 33,
   "metadata": {},
   "outputs": [],
   "source": [
    "## La Frame englobante\n",
    "f = Frame(fen) ## fen : f sera packée dans fen\n",
    "\n",
    "## abscisse\n",
    "entreeAbscisse = Entry(f) ## argument f pour spécifier que ces widgets seront \"packées\" dans f\n",
    "labelAbscisse = Label(f,text=\"Abscisse : \")\n",
    "labelAbscisse.pack(side=LEFT) ## LEFT : pour insertion horizontale de gauche à droite\n",
    "entreeAbscisse.pack(side=LEFT)\n",
    "\n",
    "## ordonnee\n",
    "entreeOrdonnee = Entry(f)\n",
    "labelOrdonnee = Label(f,text=\"Ordonnée : \")\n",
    "labelOrdonnee.pack(side=LEFT)\n",
    "entreeOrdonnee.pack(side=LEFT)\n",
    "\n",
    "## rayon\n",
    "entreeRayon = Entry(f)\n",
    "labelRayon = Label(f,text=\"Rayon : \")\n",
    "labelRayon.pack(side=LEFT)\n",
    "entreeRayon.pack(side=LEFT)\n",
    "\n",
    "## ne pas oublier de packer f\n",
    "f.pack()\n"
   ]
  },
  {
   "cell_type": "markdown",
   "metadata": {},
   "source": [
    "On s'occupe maintenant du bouton :"
   ]
  },
  {
   "cell_type": "code",
   "execution_count": 34,
   "metadata": {},
   "outputs": [],
   "source": [
    "boutonInsert = Button(fen,text=\"Ajouter\")\n",
    "boutonInsert.pack()"
   ]
  },
  {
   "cell_type": "markdown",
   "metadata": {},
   "source": [
    "Voilà, l'interface est prête (si ce n'est qu'elle ne fait rien). Pour vous en convaincre, vous pouvez copier coller l'ensemble du code ci-dessus dans un seul fichier et ajouter :\n",
    "\n",
    "`fen.mainloop()`\n",
    "\n",
    "Il reste maintenant à lier le bouton `Ajouter` à une fonction qui va lire le contenu des 3 `Entry`, qui va ajouter un cercle à la liste `listeCercles`, et qui va redessiner les cercles dans le `Canvas`.\n"
   ]
  },
  {
   "cell_type": "markdown",
   "metadata": {},
   "source": [
    "# Lien entre interface et modèle"
   ]
  },
  {
   "cell_type": "markdown",
   "metadata": {},
   "source": [
    "Commençons par la procédure qui dessine les cercles dans le Canvas en fonction du contenu de la liste `listeCercles`"
   ]
  },
  {
   "cell_type": "code",
   "execution_count": 35,
   "metadata": {},
   "outputs": [],
   "source": [
    "def redessineCanvas(zone,listeCercles):\n",
    "    zone.delete(ALL) ## effacement total du contenu de la zone de dessin\n",
    "    for cercle in listeCercles:\n",
    "        rayon = cercle[1]\n",
    "        centre = cercle[0]\n",
    "        xCentre = centre[0]\n",
    "        yCentre = centre[1]\n",
    "        ## a partir du centre et du rayon, je calcule les coordonnees haut gauche (hg) et bas droit (bd)\n",
    "        ## du carre qui englobe le cercle\n",
    "        xhg = xCentre-rayon\n",
    "        yhg = yCentre-rayon\n",
    "        xbd = xCentre+rayon\n",
    "        ybd = yCentre+rayon\n",
    "        zone.create_oval(xhg,yhg,xbd,ybd)"
   ]
  },
  {
   "cell_type": "markdown",
   "metadata": {},
   "source": [
    "Dans la fonction ci-dessus, j'aurais pu ne pas donner d'argument à `redessineCanvas` et directement accéder aux variables globales `listeCercles` et `zoneDessin`. Mais une bonne pratique et d'interdire à une fonction d'accéder aux variables globales. En effet, cela permettra plus facilement, pour un futur besoin, de copier-coller cette fonction pour un autre programme, qui n'aurait pas défini en global les variables `listeCercles` et `zoneDessin`. "
   ]
  },
  {
   "cell_type": "markdown",
   "metadata": {},
   "source": [
    "Maintenant, je crée la fonction `ajouteCercle` qui va être associée au bouton `boutonInsert`. Cette fonction ne doit prendre aucun argument. Elle va donc modifier les variables globales."
   ]
  },
  {
   "cell_type": "code",
   "execution_count": 36,
   "metadata": {},
   "outputs": [],
   "source": [
    "def ajouteCercle():\n",
    "    ## lecture des 3 entrees (Entry)\n",
    "    abscisseCentre = int(entreeAbscisse.get())\n",
    "    ordonneeCentre = int(entreeOrdonnee.get())\n",
    "    rayon = int(entreeRayon.get())\n",
    "    ## ajout du cercle à la liste\n",
    "    listeCercles.append(((abscisseCentre,ordonneeCentre),rayon))\n",
    "    ## rafraichissement du Canvas\n",
    "    redessineCanvas(zoneDessin,listeCercles)"
   ]
  },
  {
   "cell_type": "markdown",
   "metadata": {},
   "source": [
    "Vous aurez remarqué que cette fonction ne vérifie pas que les entrées données par l'utilisateur sont correctes. Il faudrait vérifier que les `Entry` ne sont pas vides et qu'elles contiennent des valeurs entières non négatives. Mais ce n'est pas l'objet de cette correction."
   ]
  },
  {
   "cell_type": "markdown",
   "metadata": {},
   "source": [
    "Il reste à lier la fonction `ajouteCercle` au bouton :"
   ]
  },
  {
   "cell_type": "code",
   "execution_count": 37,
   "metadata": {},
   "outputs": [],
   "source": [
    "boutonInsert.config(command=ajouteCercle)"
   ]
  },
  {
   "cell_type": "markdown",
   "metadata": {},
   "source": [
    "Pour terminer, on peut lancer la boucle d'écoute des événements via un `fen.mainloop()`, mais attendons encore car nous avons encore à créer la fonctionnalité \"export au format image\" ; nous placerons le `fen.mainloop()` une fois les 3 versions décrites. "
   ]
  },
  {
   "cell_type": "markdown",
   "metadata": {},
   "source": [
    "# Enregistrement de l'image\n",
    "Il faut aussi permettre d'enregistrer la zone de dessin sous la forme d'une image.\n",
    "\n",
    "Pour ce faire, je me suis dit que `PIL` proposait sans doute des outils pour sauvegarder le contenu d'un `Canvas` sous la forme d'une image. De fait, quelques recherches autour des mots clés \"PIL dessiner dans une image\" me donne accès à la [page](http://jlbicquelet.free.fr/scripts/python/pil/pil.php) de Jean-Louis Bicquelet-Salaün, qui me donne quelques exemples d'utilisation de `ImageDraw`. J'adapte ci-dessous : "
   ]
  },
  {
   "cell_type": "code",
   "execution_count": 38,
   "metadata": {},
   "outputs": [],
   "source": [
    "from PIL import Image, ImageDraw\n",
    "\n",
    "def sauvegarderImage():\n",
    "    im = Image.new(\"RGB\", (800,800), \"gray\")\n",
    "    draw = ImageDraw.Draw(im) ## draw permet de dessiner avec impact sur im\n",
    "    for c in listeCercles:\n",
    "        ## je dessine un a un les cercles dans l'image\n",
    "        xCentre = c[0][0]\n",
    "        yCentre = c[0][1]\n",
    "        rayon = c[1]\n",
    "        ## calcul des coordonnees des points en haut a gauche et en bas a droite du carre englobant \n",
    "        ## le cercle\n",
    "        xgh = xCentre-rayon\n",
    "        ygh = yCentre-rayon\n",
    "        xdb = xCentre+rayon\n",
    "        ydb = yCentre+rayon        \n",
    "        draw.ellipse((xgh,ygh,xdb,ydb))\n",
    "    ## sauvegarde dans le dossier du .py\n",
    "    im.save(\"trace.png\", \"PNG\")\n",
    "    \n",
    "## bouton permettant de sauvegarder    \n",
    "boutonSauverImage = Button(fen,text=\"Sauvegarde\")\n",
    "boutonSauverImage.pack()\n",
    "boutonSauverImage.config(command=sauvegarderImage)\n"
   ]
  },
  {
   "cell_type": "markdown",
   "metadata": {},
   "source": [
    "# L'interface (version 2)\n",
    "On veut maintenant permettre l'utilisateur de cliquer dans le Canvas pour placer un cercle. La rayon du cercle est toujours défini par l'Entry \"rayon\"."
   ]
  },
  {
   "cell_type": "markdown",
   "metadata": {},
   "source": [
    "Il faut procéder en deux temps :\n",
    "1. définir la fonction qui prend en entrée un `event`, qui extrait les coordonnées (x,y) de cet événement (qui correspond à un clic de souris dans le `Canvas`)\n",
    "1. puis, il faut associer cette fonction à l'action \"clic de souris\" dans le `Canvas`."
   ]
  },
  {
   "cell_type": "markdown",
   "metadata": {},
   "source": [
    "## La fonction de gestion de l'événement\n",
    "En fait, il s'agit exactement de la même fonction que `ajouteCercle`, sauf que `abscisseCentre` et `ordonneeCentre` sont déterminés à partir des champs `x` et `y` de l'événement."
   ]
  },
  {
   "cell_type": "code",
   "execution_count": 39,
   "metadata": {},
   "outputs": [],
   "source": [
    "def reagitClicSouris(e): ## e décrit l'evenement lie à l'appel de reagitClicSouris\n",
    "    ## lecture des 3 entrees (Entry)\n",
    "    abscisseCentre = e.x\n",
    "    ordonneeCentre = e.y\n",
    "    rayon = int(entreeRayon.get())\n",
    "    ## ajout du cercle à la liste\n",
    "    listeCercles.append(((abscisseCentre,ordonneeCentre),rayon))\n",
    "    ## rafraichissement du Canvas\n",
    "    redessineCanvas(zoneDessin,listeCercles)"
   ]
  },
  {
   "cell_type": "markdown",
   "metadata": {},
   "source": [
    "Notez qu'il aurait été plus rigoureux de créer une fonction `ajouteCercle(x,y,r)` et deux fonctions `reagitClicBouton` et `reagitClicSouris` qui auraient appelé `ajouteCercle(x,y,r)`."
   ]
  },
  {
   "cell_type": "markdown",
   "metadata": {},
   "source": [
    "## Lier la fonction au clic de souris\n",
    "\n",
    "Cela se fait en une seule ligne (voir [le site effbot](http://effbot.org/tkinterbook/tkinter-events-and-bindings.htm) pour revoir les événements et le \"bind\" d'événements) :"
   ]
  },
  {
   "cell_type": "code",
   "execution_count": 40,
   "metadata": {},
   "outputs": [
    {
     "data": {
      "text/plain": [
       "'72998624reagitClicSouris'"
      ]
     },
     "execution_count": 40,
     "metadata": {},
     "output_type": "execute_result"
    }
   ],
   "source": [
    "zoneDessin.bind(\"<Button-1>\", reagitClicSouris)"
   ]
  },
  {
   "cell_type": "markdown",
   "metadata": {},
   "source": [
    "# L'interface (version 3)\n",
    "Il s'agit maintenant de permettre de spécifier le rayon à l'aide du bouton gauche de la souris : l'utilisateur clique dans le Canvas, maintient le bouton gauche de la souris enfoncé, \"tire\" le rayon, puis relache le bouton gauche.\n",
    "\n",
    "Pour permettre ce comportement, il faut :\n",
    "1. gérer un événement \"bouton gauche enfoncé\" : il faudra créer une variable booléenne `depotCercleEnCours` et deux variables `xCentre` et `yCentre`.\n",
    "2. gérer un événement \"déplacement du curseur de souris\" : l'idée est de voir le cercle grandir au fur et à mesure qu'on déplace le curseur de la souris tout en maintenant enfoncé le bouton gauche de la souris. C'est là que les deux variables précédentes vont servir. En effet, si `depotCercleEnCours` vaut `False`, alors, le fait de déplacer le curseur de la souris sur le `Canvas` n'a aucun effet. En revanche, si on enfonce le bouton gauche de la souris, `depotCercleEnCours` passe à `True`, et le déplacement du curseur de la souris va mettre à jour la liste des cercles.\n",
    "3. gérer un événement \"relachement du bouton gauche de la souris\" : cela aura pour effet de poser définitivement le cercle.\n",
    "\n",
    "Quand on déplace le curseur de la souris, avec le bouton gauche enfoncé, on veut voir le cercle en cours de construction. Pour cela, on va insérer la cercle en cours de construction dans la liste `listeCercles`, et chaque mouvement du curseur de la souris va supprimer le cercle en cours et le remplacer par un nouveau avec le rayon mis à jour (voir fonction `reagitMouvementSouris`, ci-dessous).\n"
   ]
  },
  {
   "cell_type": "code",
   "execution_count": 41,
   "metadata": {},
   "outputs": [],
   "source": [
    "xCentre = 0\n",
    "yCentre = 0\n",
    "depotCercleEnCours = False\n",
    "\n",
    "def reagitClicSouris(e):\n",
    "    global xCentre, yCentre\n",
    "    global depotCercleEnCours\n",
    "    depotCercleEnCours = True\n",
    "    xCentre = e.x\n",
    "    yCentre = e.y\n",
    " \n",
    "import math ## ce serait mieux d'importer math dès le début du programme\n",
    "\n",
    "def reagitMouvementSouris(e):\n",
    "    global depotCercleEnCours\n",
    "    if depotCercleEnCours:\n",
    "        if len(listeCercles) > 0:\n",
    "            ## si la liste n'est pas vide, suppression du cercle en cours\n",
    "            listeCercles.pop() ## pop car le cercle en cours est le dernier ajoute a la liste\n",
    "        abscisseCentre = xCentre\n",
    "        ordonneeCentre = yCentre\n",
    "        ## on recalcule le nouveau rayon\n",
    "        rayon = math.sqrt((e.x-xCentre)*(e.x-xCentre) + (e.y-yCentre)*(e.y-yCentre))\n",
    "        listeCercles.append(((abscisseCentre,ordonneeCentre),rayon))\n",
    "        ## rafraichissement du Canvas\n",
    "        redessineCanvas(zoneDessin,listeCercles)        \n",
    "        \n",
    "def reagitRelachementBoutonSouris(e):\n",
    "    global depotCercleEnCours\n",
    "    depotCercleEnCours = False\n",
    "    abscisseCentre = xCentre\n",
    "    ordonneeCentre = yCentre\n",
    "    rayon = math.sqrt((e.x-xCentre)*(e.x-xCentre) + (e.y-yCentre)*(e.y-yCentre))\n",
    "    ## il faut prendre en compte le fait que le bouton gauche a ete relache sans avoir\n",
    "    ## bouge le curseur de souris : dans ce cas, le rayon est égal à 0\n",
    "    ## dans ce cas, on ne fait rien\n",
    "    ## ajout du cercle à la liste\n",
    "    if rayon > 0:\n",
    "        listeCercles.append(((abscisseCentre,ordonneeCentre),rayon))\n",
    "        ## rafraichissement du Canvas\n",
    "        redessineCanvas(zoneDessin,listeCercles)\n",
    "\n",
    "## on relit les 3 actions utilisateur a sa fonction correspondante        \n",
    "zoneDessin.bind(\"<Button-1>\", reagitClicSouris)\n",
    "zoneDessin.bind(\"<B1-Motion>\",reagitMouvementSouris)\n",
    "zoneDessin.bind(\"<ButtonRelease-1>\", reagitRelachementBoutonSouris)\n",
    "\n",
    "## il est enfin temps de lancer la boucle d'écoute des événements\n",
    "fen.mainloop()"
   ]
  },
  {
   "cell_type": "markdown",
   "metadata": {},
   "source": [
    "# Pour aller plus loin\n",
    "On pourra penser optionnellement aux fonctionnalités suivantes :\n",
    "* préciser la couleur du cercle\n",
    "* permettre une couleur de remplissage des cercles (qui deviennent des disques !)\n",
    "* permettre de changer l'ordre de dessin des cercles (équivallent des \"Placer devant\", \"Placer derrière\", \"Reculer\", \"Avancer\" des outils de dessin, ou de présentation assistée par ordinateur).\n",
    "* déplacer les cercles\n",
    "* choisir le fichier de sauvegarde (à l'aide d'une widget `tkFileDialog` du module `tkFileDialog`.\n",
    "\n"
   ]
  }
 ],
 "metadata": {
  "kernelspec": {
   "display_name": "Python 3",
   "language": "python",
   "name": "python3"
  },
  "language_info": {
   "codemirror_mode": {
    "name": "ipython",
    "version": 3
   },
   "file_extension": ".py",
   "mimetype": "text/x-python",
   "name": "python",
   "nbconvert_exporter": "python",
   "pygments_lexer": "ipython3",
   "version": "3.5.0"
  },
  "widgets": {
   "application/vnd.jupyter.widget-state+json": {
    "state": {},
    "version_major": 2,
    "version_minor": 0
   }
  }
 },
 "nbformat": 4,
 "nbformat_minor": 2
}
