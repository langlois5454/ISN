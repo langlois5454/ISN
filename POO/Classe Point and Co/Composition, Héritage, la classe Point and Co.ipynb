{
 "cells": [
  {
   "cell_type": "markdown",
   "metadata": {},
   "source": [
    "# Composition, Héritage"
   ]
  },
  {
   "cell_type": "markdown",
   "metadata": {},
   "source": [
    "# Introduction"
   ]
  },
  {
   "cell_type": "markdown",
   "metadata": {},
   "source": [
    "Vous avez déjà développé la classe Usager. Cette activité vous a permis de comprendre comment les données d'un problème pouvaient être encapsulées sous forme de classes. Chaque classe possède des attributs, et des méthodes. A partir d'une classe, on peut instancier (créer) des objets de cette classe. Chaque objet d'une même classe possède les mêmes attributs et les mêmes méthodes ; mais d'un objet à l'autre, les valeurs des attributs seront différentes.\n",
    "\n",
    "Par rapport à l'implantation sous forme de dictionnaire, le passage à la programmation orientée objet peut sembler une simple ré-écriture. Cette re-écriture peut sembler bienvenue du fait d'une amélioration de la lisibilité.\n",
    "\n",
    "Mais au final, on pourrait se dire : tout çà pour çà ?\n",
    "\n",
    "Nous allons maintenant découvrir la puissance de l'approche objet.\n",
    "\n",
    "Tout d'abord, nous allons comprendre que l'approche objet permet véritablement de définir de nouveaux types de données, permettant de manipuler des informations complexes et structurées. Vous devriez déjà avoir conscience de cela grâce au TP sur les chaines de caractères : une chaine de caractères est un objet complexe dôté de ses propres méthodes puissantes.\n",
    "\n",
    "Nous allons ensuite découvrir l'héritage. L'héritage permet de créer une classe à partir d'une autre. Pour comprendre le principe, pensez aux classifications en ce qu'on appelait il y a longtemps, l'histoire naturelle. Dans une classification, vous aviez par exemple la classe des animaux. Dans cette classe, vous aviez plusieurs sous-classes, comme celle des vertébrés, celles des invertébrés. Dans la classe des vertébrés, vous avez plusieurs sous-classes, ells-mêmes contenant plusieurs sous-classes. Dans cette hiérarchie de classes, on trouve quelque part la classe des mammifères (voir la page [Wikipédia](https://fr.wikipedia.org/wiki/Vert%C3%A9br%C3%A9s#Classification)). Ce qu'il est important de comprendre ici, c'est que tous les membres de la classe des vertébrés ont des points communs, et que tous les membres des sous-classes de vertébrés ont en commun les caractéristiques des vertébrés, mais qu'ils en diffèrent par quelques caractéristiques. En programmation orientée objet, nous allons reproduire ce principe en créant des classes dont vont hériter des attributs et méthodes d'une autre classe. "
   ]
  },
  {
   "cell_type": "markdown",
   "metadata": {},
   "source": [
    "# Contenu pédagogique"
   ]
  },
  {
   "cell_type": "markdown",
   "metadata": {},
   "source": [
    "Au-delà des notions de composition et d'héritage, ce qui suit permettra de découvrir :\n",
    "+ les attributs implicites\n",
    "+ le fait qu'un objet passé en paramètre d'une fonction est passé en référence"
   ]
  },
  {
   "cell_type": "markdown",
   "metadata": {},
   "source": [
    "# La classe Point"
   ]
  },
  {
   "cell_type": "markdown",
   "metadata": {},
   "source": [
    "Créons une classe Point, qui correspond à un point de l'espace en 2 dimensions :"
   ]
  },
  {
   "cell_type": "code",
   "execution_count": 1,
   "metadata": {},
   "outputs": [
    {
     "name": "stdout",
     "output_type": "stream",
     "text": [
      "(1,3)\n"
     ]
    }
   ],
   "source": [
    "class Point:\n",
    "    def __init__(self,x,y):\n",
    "        self.x = x\n",
    "        self.y = y\n",
    "        \n",
    "    def toString(self):\n",
    "        return \"(\"+str(self.x)+\",\"+str(self.y)+\")\"\n",
    "\n",
    "if __name__ == \"__main__\":  \n",
    "    A = Point(1,3)\n",
    "    print(A.toString())"
   ]
  },
  {
   "cell_type": "markdown",
   "metadata": {},
   "source": [
    "## Les attributs et méthodes implicites"
   ]
  },
  {
   "cell_type": "markdown",
   "metadata": {},
   "source": [
    "Profitons de la définition de la classe Point pour présenter quelques fonctionnalités de Python bien pratiques.\n",
    "\n",
    "La première est qu'il existe pour chaque classe des attributs au nom standard qui auront un comportement spécifique qui sera le même quellle que soit la classe (mais adapté à cette classe !).\n",
    "\n",
    "Un premier exemple est la méthode __\\_\\_str\\_\\___. Cette méthode renvoie une chaîne de caractères censée représenter la valeur de l'objet. A quoi cela peut-il bien servir ? Hé bien, il s'avère que la fonction __print__ de Python appelle la méthode __\\_\\_str\\_\\___ de l'objet auquel elle s'applique, réceptionne la chaîne de caractères retournée par __\\_\\_str\\_\\___, et affiche cette chaîne. En fait, __print__ ne peut afficher que des chaînes de caractères. Chaque objet qu'elle doit afficher doit lui fournir une chaîne de caractères.\n",
    "\n",
    "Mais alors, que se passe-t-il si on ne définit pas __\\_\\_str\\_\\___ dans la classe qu'on crée ? Testons avec Point."
   ]
  },
  {
   "cell_type": "code",
   "execution_count": 2,
   "metadata": {},
   "outputs": [
    {
     "name": "stdout",
     "output_type": "stream",
     "text": [
      "<__main__.Point object at 0x04974470>\n"
     ]
    }
   ],
   "source": [
    "class Point:\n",
    "    def __init__(self,x,y):\n",
    "        self.x = x\n",
    "        self.y = y\n",
    "        \n",
    "    def toString(self):\n",
    "        return \"(\"+str(self.x)+\",\"+str(self.y)+\")\"\n",
    "\n",
    "if __name__ == \"__main__\":  \n",
    "    A = Point(1,3)\n",
    "    print(A)"
   ]
  },
  {
   "cell_type": "markdown",
   "metadata": {},
   "source": [
    "En fait, par défaut, la méthode __\\_\\_str\\_\\___ existe bel et bien pour la classe Point (on verra par la suite, que par défaut, toute nouvelle classe hérite d'une classe appelée __Object__, et que cette classe contient une définition de __\\_\\_str\\_\\___. Vous pouvez d'ailleurs accéder à une description de __str__ :"
   ]
  },
  {
   "cell_type": "code",
   "execution_count": 3,
   "metadata": {},
   "outputs": [
    {
     "name": "stdout",
     "output_type": "stream",
     "text": [
      "<method-wrapper '__str__' of Point object at 0x04974470>\n"
     ]
    }
   ],
   "source": [
    "print(A.__str__)"
   ]
  },
  {
   "cell_type": "markdown",
   "metadata": {},
   "source": [
    "On vous dit que __\\_\\_str\\_\\___ est une méthode (laissons de côté le terme wrapper pour le moment) de Point. Notez bien l'absence de parenthèse. Si je mettais des parenthèses, cela correspondrait à un appel à la méthode, pas à un affichage de sa fiche d'identité :"
   ]
  },
  {
   "cell_type": "code",
   "execution_count": 4,
   "metadata": {},
   "outputs": [
    {
     "name": "stdout",
     "output_type": "stream",
     "text": [
      "<__main__.Point object at 0x04974470>\n"
     ]
    }
   ],
   "source": [
    "print(A.__str__())"
   ]
  },
  {
   "cell_type": "markdown",
   "metadata": {},
   "source": [
    "Et on retrouve bien le même affichage que pour print(A). En effet, print(A) fait un appel implcite à __\\_\\_str\\_\\___, et print(A.\\_\\_str\\_\\_()) fait un appel explicite à cette méthode."
   ]
  },
  {
   "cell_type": "markdown",
   "metadata": {},
   "source": [
    "Bon, reprenons :"
   ]
  },
  {
   "cell_type": "code",
   "execution_count": 5,
   "metadata": {},
   "outputs": [
    {
     "name": "stdout",
     "output_type": "stream",
     "text": [
      "<__main__.Point object at 0x04974470>\n"
     ]
    }
   ],
   "source": [
    "print(A)"
   ]
  },
  {
   "cell_type": "markdown",
   "metadata": {},
   "source": [
    "A est un objet qui possède une méthode __\\_\\_str\\_\\___. Cette méthode renvoie une chaine de caractères. Par défaut, cette chaîne indique l'emplacement en mémoire vive de l'objet A (le code héxadécimal). Mais nous voudrions plutôt un affichage correspondant à la méthode toString. Voici comment faire :"
   ]
  },
  {
   "cell_type": "code",
   "execution_count": 6,
   "metadata": {},
   "outputs": [
    {
     "name": "stdout",
     "output_type": "stream",
     "text": [
      "(1,3)\n"
     ]
    }
   ],
   "source": [
    "class Point:\n",
    "    def __init__(self,x,y):\n",
    "        self.x = x\n",
    "        self.y = y\n",
    "        \n",
    "    def __str__(self):\n",
    "        return \"(\"+str(self.x)+\",\"+str(self.y)+\")\"\n",
    "\n",
    "if __name__ == \"__main__\":  \n",
    "    A = Point(1,3)\n",
    "    print(A)"
   ]
  },
  {
   "cell_type": "markdown",
   "metadata": {},
   "source": [
    "Et voilà, nous avons rédéfini la méthode __\\_\\_str\\_\\___ pour la classe Point. On verra qu'on dit qu'on a surchargé la métode.\n",
    "\n",
    "Il existe d'autres méthodes, et aussi des attributs ainsi prédéfinis qu'on peut redéfinir à sa guise.\n",
    "\n",
    "Prenons l'exemple d'une liste :\n"
   ]
  },
  {
   "cell_type": "code",
   "execution_count": 7,
   "metadata": {},
   "outputs": [
    {
     "name": "stdout",
     "output_type": "stream",
     "text": [
      "[1, 2, 3]\n"
     ]
    }
   ],
   "source": [
    "l = [1,2,3]\n",
    "print(l)"
   ]
  },
  {
   "cell_type": "markdown",
   "metadata": {},
   "source": [
    "Remarquez l'affichage avec les espaces après les virgule : la méthode __\\_\\_str\\_\\___ d'un objet de la classe List renvoie une chaine de caractères avec les données reformatées. Continuons :"
   ]
  },
  {
   "cell_type": "code",
   "execution_count": 8,
   "metadata": {},
   "outputs": [
    {
     "data": {
      "text/plain": [
       "\"list() -> new empty list\\nlist(iterable) -> new list initialized from iterable's items\""
      ]
     },
     "execution_count": 8,
     "metadata": {},
     "output_type": "execute_result"
    }
   ],
   "source": [
    "l.__doc__"
   ]
  },
  {
   "cell_type": "markdown",
   "metadata": {},
   "source": [
    "Pour chaque objet existe un attribut nommé \\_\\_doc\\_\\_ qui a pour valeur une chaine donnant la documentation de la classe. A noter que les \\n permettent à un print de reformater la chaine au moment de l'affichage :"
   ]
  },
  {
   "cell_type": "code",
   "execution_count": 9,
   "metadata": {},
   "outputs": [
    {
     "name": "stdout",
     "output_type": "stream",
     "text": [
      "list() -> new empty list\n",
      "list(iterable) -> new list initialized from iterable's items\n"
     ]
    }
   ],
   "source": [
    "print(l.__doc__)"
   ]
  },
  {
   "cell_type": "markdown",
   "metadata": {},
   "source": [
    "Il existe aussi une documentation pour les méthodes :"
   ]
  },
  {
   "cell_type": "code",
   "execution_count": 10,
   "metadata": {},
   "outputs": [
    {
     "name": "stdout",
     "output_type": "stream",
     "text": [
      "L.count(value) -> integer -- return number of occurrences of value\n"
     ]
    }
   ],
   "source": [
    "print(l.count.__doc__)"
   ]
  },
  {
   "cell_type": "markdown",
   "metadata": {},
   "source": [
    "Pour définir pour chaque classe, chaque méthode, votre propre documentation, il faut placer en tête une chaine de caractères entre trois quotes. Voici ce que cela donne pour la classe Point :"
   ]
  },
  {
   "cell_type": "code",
   "execution_count": 11,
   "metadata": {},
   "outputs": [
    {
     "name": "stdout",
     "output_type": "stream",
     "text": [
      "(1,3) (-1,-3)\n",
      "Classe Point permettant de manipuler un point 2D\n",
      "Point.symetrique_origine() --> Point -- renvoie le symétrique d'un Point par rapport à l'origine \n",
      "Point.symetrique_origine() --> Point -- renvoie le symétrique d'un Point par rapport à l'origine \n"
     ]
    }
   ],
   "source": [
    "class Point:\n",
    "    '''Classe Point permettant de manipuler un point 2D'''\n",
    "    def __init__(self,x,y):\n",
    "        self.x = x\n",
    "        self.y = y\n",
    "        \n",
    "    def __str__(self):\n",
    "        return \"(\"+str(self.x)+\",\"+str(self.y)+\")\"\n",
    "    \n",
    "    def symetrique_origine(self):\n",
    "        '''Point.symetrique_origine() --> Point -- renvoie le symétrique d'un Point par rapport à l'origine '''\n",
    "        return Point(-self.x,-self.y)\n",
    "\n",
    "if __name__ == \"__main__\":  \n",
    "    A = Point(1,3)\n",
    "    imageA = A.symetrique_origine()\n",
    "    print(A,imageA)\n",
    "    print(A.__doc__)\n",
    "    print(A.symetrique_origine.__doc__)\n",
    "    print(Point.symetrique_origine.__doc__)"
   ]
  },
  {
   "cell_type": "markdown",
   "metadata": {},
   "source": [
    "Comme vous pouvez le noter avec la dernière ligne, on n'est pas obligé de passer par un objet, on peut directement passer par le nom de la classe. On dit que ces attributs sont des atrributs de classe : on n'est pas obligé d'instancier pour y accéder, leur valeur est indépendante de l'objet."
   ]
  },
  {
   "cell_type": "markdown",
   "metadata": {},
   "source": [
    "## Un peu d'activité"
   ]
  },
  {
   "cell_type": "markdown",
   "metadata": {},
   "source": [
    "Ouf, c'est bien long à lire tout cela.\n",
    "Avant d'aborder la composition, revenons à un peu plus d'action avec les exercices suivants :\n",
    "\n",
    "+ créez pour la classe Point la méthode distance qui prend en argument un Point et qui renvoie la distance entre les deux points\n",
    "+ créez pour la classe Point la méthode symétrique qui prend en argument un Point O et qui renvoie le symétrique du Point par rapport à O.\n",
    "\n",
    "N'oubliez pas à chaque fois de fournir une documentation."
   ]
  },
  {
   "cell_type": "markdown",
   "metadata": {},
   "source": [
    "# Composition"
   ]
  },
  {
   "cell_type": "markdown",
   "metadata": {},
   "source": [
    "Nous allons définir la classe Segment, composée de 2 Point :"
   ]
  },
  {
   "cell_type": "code",
   "execution_count": 2,
   "metadata": {},
   "outputs": [
    {
     "name": "stdout",
     "output_type": "stream",
     "text": [
      "[(1,2),(5.5,2.3)] [(3.7,5),(5.5,2.3)]\n"
     ]
    }
   ],
   "source": [
    "class Point:\n",
    "    '''Classe Point permettant de manipuler un point 2D'''\n",
    "    def __init__(self,x,y):\n",
    "        self.x = x\n",
    "        self.y = y\n",
    "        \n",
    "    def __str__(self):\n",
    "        return \"(\"+str(self.x)+\",\"+str(self.y)+\")\"\n",
    "    \n",
    "    def symetrique_origine(self):\n",
    "        '''Point.symetrique_origine() --> Point -- renvoie le symétrique d'un Point par rapport à l'origine '''\n",
    "        return Point(-self.x,-self.y)\n",
    "\n",
    "\n",
    "class Segment:\n",
    "    ''' classe Segment : permet de manipuler un segment dans un plan 2D'''\n",
    "    def __init__(self,A,B):\n",
    "        self.A = A\n",
    "        self.B = B\n",
    "        \n",
    "    def __str__(self):\n",
    "        return \"[\"+str(self.A)+\",\"+str(self.B)+\"]\"\n",
    "        \n",
    "    def longueur(self):\n",
    "        ''' Segment.longueur() --> int -- retourne la longueur du segment'''\n",
    "        return self.A.distance(B)\n",
    "    \n",
    "X = Point(1,2)\n",
    "Y = Point(5.5,2.3)\n",
    "Z = Y.symetrique_origine()\n",
    "s1 = Segment(X,Y)\n",
    "s2 = Segment(Y,Z)\n",
    "s3 = Segment(Point(3.7,5),Y)\n",
    "print(s1,s3)\n"
   ]
  },
  {
   "cell_type": "markdown",
   "metadata": {},
   "source": [
    "Bon, il y a beaucoup à dire sur ce qui précède :\n",
    "+ ligne 22 : hé oui, la fonction str, que vous connaissez bien, fait appel à la méthode __\\_\\_str\\_\\___ de l'objet passé en argument.\n",
    "+ lignes 31, 32, 33 : le constructeur de Segment prend en argument deux points. Ces deux arguments peuvent être passés via des variables (lignes 31 et 33) ou encore en faisant appel au constructeur de Point (ligne 34)\n",
    "+ lignes 26 : remarquez comment on fait appel à la méthode distance de Point pour calculer la longueur d'un segment.\n",
    "\n",
    "Testons maintenant quelque chose afin de détecter un comportement qui peut surprendre :"
   ]
  },
  {
   "cell_type": "code",
   "execution_count": 16,
   "metadata": {},
   "outputs": [
    {
     "name": "stdout",
     "output_type": "stream",
     "text": [
      "[(5.5,2.3),(-5.5,-2.3)]\n",
      "[(0,2.3),(-5.5,-2.3)]\n"
     ]
    }
   ],
   "source": [
    "print(s2)\n",
    "Y.x = 0\n",
    "print(s2)"
   ]
  },
  {
   "cell_type": "markdown",
   "metadata": {},
   "source": [
    "Hum, comme on le voit, on a défini que le segment s2 avait pour extrémités Y et Z. Donc si on \"bouge\" Y, le segment suit le mouvement. Cela peut être en effet un comportement voulu. Par exemple, dans un logiciel de dessin, quand vous dessinez un segment entre deux points, et que vous bougez un point, le segment suit le mouvement. \n",
    "\n",
    "Ce qu'il se passe ici, c'est que les points passés en arguments au constructeur de Segment sont passés en __référence__. Cela signifie que suite à l'exécution de la ligne 32 du bloc 14, s2.A et et Y pointent vers la même zone mémoire, le même Point. Donc quand on modifie l'un, on modifie la même zone mémoire que celle vers laquelle pointe l'autre.\n",
    "\n",
    "Pour rappel, il existe en Python la notion de type mutable. Toute valeur de type mutable passée en argument d'une fonction l'est pas référence. Les types mutables que vous connaissez déjà sont les listes, les dictionnaires. Ces listes et dictionnaires sont en fait des objets, et on peut généraliser en disant que tout objet est de type mutable.\n",
    "\n",
    "Cela signifie que si une fonction modifie un objet passé en argument, l'objet correspondant passé par la fonction appelante est aussi modifié. \n",
    "\n",
    "Dans notre cas, on pourrait vouloir éviter ce comportement et fixer le segment sur des coordonnées indépendantes d'un Point. Pour ce faire, on peut créer un Point tout exprès, au moment de la création du segment (bloc 14, ligne 33). On peut aussi permettre de cloner un Point :"
   ]
  },
  {
   "cell_type": "code",
   "execution_count": 17,
   "metadata": {},
   "outputs": [
    {
     "name": "stdout",
     "output_type": "stream",
     "text": [
      "[(1,2),(4,8)] [(1,2),(4,8)]\n",
      "[(0,2),(4,8)] [(1,2),(4,8)]\n"
     ]
    }
   ],
   "source": [
    "class Point:\n",
    "    '''Classe Point permettant de manipuler un point 2D'''\n",
    "    def __init__(self,x,y):\n",
    "        self.x = x\n",
    "        self.y = y\n",
    "        \n",
    "    def __str__(self):\n",
    "        return \"(\"+str(self.x)+\",\"+str(self.y)+\")\"\n",
    "    \n",
    "    def copie(self):\n",
    "        return Point(self.x,self.y)\n",
    "    \n",
    "    def symetrique_origine(self):\n",
    "        '''Point.symetrique_origine() --> Point -- renvoie le symétrique d'un Point par rapport à l'origine '''\n",
    "        return Point(-self.x,-self.y)\n",
    "\n",
    "\n",
    "class Segment:\n",
    "    ''' classe Segment : permet de manipuler un segment dans un plan 2D'''\n",
    "    def __init__(self,A,B):\n",
    "        self.A = A\n",
    "        self.B = B\n",
    "        \n",
    "    def __str__(self):\n",
    "        return \"[\"+str(self.A)+\",\"+str(self.B)+\"]\"\n",
    "        \n",
    "    def longueur(self):\n",
    "        ''' Segment.longueur() --> int -- retourne la longueur du segment'''\n",
    "        return self.A.distance(B)\n",
    "    \n",
    "X = Point(1,2)\n",
    "Y = Point(4,8)\n",
    "s1 = Segment(X,Y)\n",
    "s2 = Segment(X.copie(),Y.copie())\n",
    "print(s1,s2)\n",
    "X.x = 0\n",
    "print(s1,s2)\n"
   ]
  },
  {
   "cell_type": "markdown",
   "metadata": {},
   "source": [
    "## Un peu d'activité"
   ]
  },
  {
   "cell_type": "markdown",
   "metadata": {},
   "source": [
    "Appliquons :\n",
    "+ Créez une classe Carre composée de 4 points A, B, C, D\n",
    "+ Redéfinissez \\_\\_str\\_\\_\n",
    "+ Ajoutez la méthode perimetre qui renvoie le périmètre du carré\n",
    "+ Ajoutez la méthode aire qui renvoie l'aire du carré\n",
    "+ Faites de même avec une classe Triangle\n",
    "+ On pourrait généraliser en créant une classe Polygone, composée d'une liste de Point, le dernier relié eu premier :\n",
    "    + Créez la classe Polygone, et ajoutez-y la méthode perimetre\n",
    "\n",
    "Mais comment définir la méthode aire pour Polygone ? Mais Carre et Triangle ne sont-ils pas maintenant en doublon ? Nous allons revisiter ces classes à l'aide de l'héritage."
   ]
  },
  {
   "cell_type": "markdown",
   "metadata": {},
   "source": [
    "# Héritage"
   ]
  },
  {
   "cell_type": "markdown",
   "metadata": {},
   "source": [
    "Nous allons maintenant aborder l'héritage. Nous allons d'abord définir une classe Polygone, puis définir les classes Rectange et Triangle, puis les classes Carré et TriangleRectangle.\n",
    "\n",
    "Mais pour introduire la notion d'héritage, dérivons de la classe Point une classe PointNomme. Cette proposition nait d'un besoin. En effet, nous pouvons envisager à partir des classes \"géométriques\" que nous allons créer ensemble de programmer une interface graphique de géométrie. Cette interface serait constituée d'un plan de travil (Canevas) sur lequel on pourrait poser des points, créer des figures, les déplacer, etc. Il se trouve que dans ce type de logiciel, les points sont nommés (A, B, etc.) et qu'on peut directment nommer un polygone ABCDEF, sans afficher les coordonnées.\n",
    "\n",
    "Il nous faut donc un point avec un nom. On pourrait bien sûr modifier la classe Point. Mais deux arguments viennent nous en empécher :\n",
    "\n",
    "+ il se peut que la classe Point soit très complexe (bon, d'accord, ce n'est pas le cas ici,...), et alors peut-être que cette modification serait laborieuse (modification de nombreuses méthodes)\n",
    "+ sans interface, pas besoin nécessairement de donner un nom aux points. Donc on voudrait tout de même garder notre classe de Point anonyme telle quelle.\n",
    "\n",
    "Dérivons la classe PointNomme de la classe Point :"
   ]
  },
  {
   "cell_type": "code",
   "execution_count": 12,
   "metadata": {},
   "outputs": [
    {
     "name": "stdout",
     "output_type": "stream",
     "text": [
      "A\n",
      "A\n",
      "1\n",
      "(1,2)\n"
     ]
    }
   ],
   "source": [
    "class Point:\n",
    "    '''Classe Point permettant de manipuler un point 2D'''\n",
    "    def __init__(self,x,y):\n",
    "        self.x = x\n",
    "        self.y = y\n",
    "        \n",
    "    def __str__(self):\n",
    "        return \"(\"+str(self.x)+\",\"+str(self.y)+\")\"\n",
    "    \n",
    "    def copie(self):\n",
    "        return Point(self.x,self.y)\n",
    "    \n",
    "    def symetrique_origine(self):\n",
    "        '''Point.symetrique_origine() --> Point -- renvoie le symétrique d'un Point par rapport à l'origine '''\n",
    "        return Point(-self.x,-self.y)\n",
    "\n",
    "class PointNomme(Point):\n",
    "    def __init__(self,x,y,nom):\n",
    "        Point.__init__(self,x,y)\n",
    "        self.nom = nom\n",
    "        \n",
    "    def __str__(self):\n",
    "        return self.nom\n",
    "    \n",
    "if __name__ == \"__main__\":\n",
    "    A = PointNomme(1,2,\"A\")\n",
    "    print(A)\n",
    "    print(A.nom)\n",
    "    print(A.x)\n",
    "    print(super(PointNomme,A).__str__())\n"
   ]
  },
  {
   "cell_type": "markdown",
   "metadata": {},
   "source": [
    "Commentons. \n",
    "\n",
    "+ PointNommme est une classe qui hérite de Point. On dit aussi que Point est la classe parent de PointNomme. \n",
    "+ Cela signifie qu'un objet de type PointNomme possède au moins les attributs et méthodes de la classe Point. En plus un objet de classe PointNomme peut posséder ses propres attributs et méthodes. Ceux-ci peuvent venir en plus ou peuvent remplacer des attibuts ou méthodes de la classe :\n",
    "    + nom est un nouvel attribut de PointNomme. Ainsi, un objet de type PointNomme possède 3 attibuts : x, y, et nom\n",
    "    + \\_\\_str\\_\\_ est rédéfinie dans la classe PointNomme. Si on appelle cette méthode sur un objet de type PointNomme, c'est cette définition qui sera utilisée. On dit que la méthode est surchargée. On peut aussi surcharger des attributs.\n",
    "+ A propos du constructeur \\_\\_init\\_\\_ de la classe PointNomme :\n",
    "    + il s'agit de construire la partie Point de l'objet (ligne 19), puis de compléter en ajoutant l'attibut nom (ligne 20).\n",
    "    + en ligne 19, on fait appel au constructeur de la classe Point via Point.\\_\\_init\\_\\_, avec les arguments voulus : self, évidemment, ainsi que x et y.\n",
    "+ A propos du programme principal (main) :\n",
    "    + En ligne 26, on construit un objet de type PointNomme, avec donc 3 arguments (puisque le construteur en demande 3 en plus du self).\n",
    "    + En ligne 27, on affiche le point A, on fait donc appel à la méthode \\_\\_str\\_\\_ de PointNomme\n",
    "    + En ligne 28, on accède à l'attribut nom de A\n",
    "    + En ligne 29, on accède à l'attribut x de A, soit l'aatribut de la partie Point de A (car il n'y a pas d'attribut x dans la classe PointNomme)\n",
    "    + En ligne 30, on force A à se considérer comme un Point et on demande d'utiliser \\_\\_str\\_\\_. Pour cela, on utuilise la fonction super. Cette fonction prend 2 arguments : la classe de l'objet, et l'objet lui-même, et renvoie une référence sur la partie \"classe mère\" de l'objet. Ainsi, on peut demander à A de se comporter comme un PointNomme, ou comme un point, selon les besoins."
   ]
  },
  {
   "cell_type": "markdown",
   "metadata": {},
   "source": [
    "## Un peu d'activité\n",
    "\n",
    "Considérons la classe Polygone :"
   ]
  },
  {
   "cell_type": "code",
   "execution_count": 19,
   "metadata": {},
   "outputs": [
    {
     "name": "stdout",
     "output_type": "stream",
     "text": [
      "Polygone(ABCD)\n",
      "4.242640687119286\n"
     ]
    }
   ],
   "source": [
    "import math\n",
    "\n",
    "class Point:\n",
    "    '''Classe Point permettant de manipuler un point 2D'''\n",
    "    def __init__(self,x,y):\n",
    "        self.x = x\n",
    "        self.y = y\n",
    "        \n",
    "    def __str__(self):\n",
    "        return \"(\"+str(self.x)+\",\"+str(self.y)+\")\"\n",
    "    \n",
    "    def distance(self,p):\n",
    "        return math.sqrt((self.x-p.x)**2+(self.y-p.y)**2)\n",
    "    \n",
    "    \n",
    "class PointNomme(Point):\n",
    "    def __init__(self,x,y,nom):\n",
    "        Point.__init__(self,x,y)\n",
    "        self.nom = nom\n",
    "        \n",
    "    def __str__(self):\n",
    "        return self.nom\n",
    "    \n",
    "class Polygone:        \n",
    "    def __init__(self,lp):\n",
    "        self.points = [p for p in lp]\n",
    "        \n",
    "    def __str__(self):\n",
    "        return \"Polygone(\"+\"\".join([p.nom for p in self.points])+\")\"\n",
    "    \n",
    "    def perimetre(self):\n",
    "        p = 0\n",
    "        for i in range(len(self.points)-1):\n",
    "            p += self.points[i].distance(self.points[i+1])\n",
    "        return p\n",
    "        \n",
    "    \n",
    "if __name__ == \"__main__\":\n",
    "    x = PointNomme(1,0,\"A\")\n",
    "    y = PointNomme(0,1,\"B\")\n",
    "    z = PointNomme(-1,0,\"C\")\n",
    "    t = PointNomme(0,-1,\"D\")\n",
    "    p = Polygone([x,y,z,t])\n",
    "    print(p)\n",
    "    print(p.perimetre())\n",
    "    "
   ]
  },
  {
   "cell_type": "markdown",
   "metadata": {},
   "source": [
    "Programmez :\n",
    "+ une classe Rectangle qui hérite de Polygone, et surcharge \\_\\_str\\_\\_ de manière à écrire une description de type Rectangle(ABCD)\n",
    "+ une classe Triangle qui gérite de Polygone, et surcharcge \\_\\_str\\_\\_ de manière à écrire ne description de type Triangle(ABC)\n",
    "+ une classe Carré qui hérite de Rectangle, et :\n",
    "    + définit un constructeur ne prenant en argument que les deux extrémités d'une diagonale\n",
    "    + surcharge \\_\\_str\\_\\_ de manière à écrire une description de type Carré(ABCD)\n",
    "    + surcharge perimetre de manière à calculer plus simplement le quadruple de la longueur d'un des côtés\n",
    "    + ajoute la méthode aire\n",
    "+ une classe TriangleRectangle qui hérite de Triangle, et :\n",
    "    + surcharge \\_\\_str\\_\\_ de manière à écrire une description de type TriangleRectangle(ABC) de manière que B soit le sommet où est présent l'angle droit.\n",
    "    \n",
    "Développez un programme principal qui teste vos classes.\n",
    "\n",
    "On supposera que pour les classes Rectangle et TriangleRectangle, les points donnés aux constructeurs respectent la contraintes. Nous verrons plus tard les exceptions, qui permettent de gérer des usages non prévus, et de sortir en erreur (comme ce qu'il se passe quand vous essayez print([1,2,3][4]))."
   ]
  },
  {
   "cell_type": "markdown",
   "metadata": {},
   "source": [
    "## Héritage multiple\n",
    "\n",
    "On peut aussi imaginer qu'une classe hérite de plusieurs classes. par exemple, de la classe Animal, on peut faire dériver les Classes Carnivore et Herbivore. On peut alors penser à un Omnivore qui est à la fois un Carnivore et un Herbivore. En terme de Python, cela donne (le pass est là pour éviter de définir les classes) :"
   ]
  },
  {
   "cell_type": "code",
   "execution_count": 30,
   "metadata": {},
   "outputs": [],
   "source": [
    "class Animal:\n",
    "    pass\n",
    "\n",
    "class Herbivore(Animal):\n",
    "    pass\n",
    "        \n",
    "\n",
    "class Carnivore(Animal):\n",
    "    pass\n",
    "\n",
    "class Omnivore(Herbivore,Carnivore):\n",
    "    pass\n",
    "\n"
   ]
  },
  {
   "cell_type": "markdown",
   "metadata": {},
   "source": [
    "L'héritage multiple et certes possible. Mais, nous ne le développons pas ici car il pose certains problèmes. En effet, ici, en toute logique, quand on crée un objet de type Omnivore, on appelle les constructeurs des classes Herbivore et Carnivore. Chacun d'entre-eux appelle le constructeur de Animal. Mais alors, que se passe-t-il ? Un objet de type Omnivore est-il associé à deux entités de type Animal ? Cela est-il en fait bien géré ? D\"autres cas analogues peuvent se poser, et chaque langage de programmation va résoudre ces problèmes à sa manière. Cela peut aboutir à un comportement relativement difficile à prévoir. C'est pourquoi on évite de passer par l'héritage multiple.  "
   ]
  }
 ],
 "metadata": {
  "kernelspec": {
   "display_name": "Python 3",
   "language": "python",
   "name": "python3"
  },
  "language_info": {
   "codemirror_mode": {
    "name": "ipython",
    "version": 3
   },
   "file_extension": ".py",
   "mimetype": "text/x-python",
   "name": "python",
   "nbconvert_exporter": "python",
   "pygments_lexer": "ipython3",
   "version": "3.5.0"
  }
 },
 "nbformat": 4,
 "nbformat_minor": 2
}
