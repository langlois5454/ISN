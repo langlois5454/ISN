{
 "cells": [
  {
   "cell_type": "markdown",
   "metadata": {},
   "source": [
    "En programmation objet, une classe définit des attributs. \n",
    "\n",
    "En Python, vous pouvez accéder à n'importe quel attribut via l'opérateur .\n",
    "\n",
    "Cette possibilité est en contradiction avec le principe d'encapsulation.\n",
    "\n",
    "L'encapsulation consiste à faire en sorte qu'un objet est maître de ses données, et que lui seul les maîtrise. L'extérieur ne peut y accéder directement, et encore moins les modifier.\n",
    "\n",
    "Pour comprendre ce principe, imaginons un humain. Cet humain est défini par plusieurs informations. Certaines sont publiques, comme son nom, son prénom. Certaines sont privées, comme son passé médical. Certaines informations sont liées et on ne peut changer l'une sans l'autre, sous peine de tomber dans une incohérence interne. Par exemple, on peut avoir l'état célibataire/marié et l'appelation Madame/Mademoiselle. Si l'état passe de célibataire à marié, l'appelation passe de Mademaoiselle à Madame.\n",
    "\n",
    "Pour modéliser ces aspects en programmations objet, il faut un mécanisme.\n",
    "\n",
    "En C++ ou Java, on utilise le concept d'attribut public et privé (avec les mots-clés public et private). Ainsi un attibut public sera visible et directement accessible alors qu'un attribut private ne le sera pas. Pour accéder à un attribut private, il faut passer par des méthodes de lecture (on parle de getter) et des méthodes de modification (on parle de setter).\n",
    "\n",
    "En Python, la même possibilité existe sous plusieurs formes, décrites ci-dessous :"
   ]
  },
  {
   "cell_type": "markdown",
   "metadata": {},
   "source": [
    "# Le _ simple\n",
    "\n",
    "Premièrement, pour indiquer qu'un attribut est privé et ne devrait pas être utilisé directement, on utilise le _ simple devant le nom de l'attribut. Cela n'empèche pas du tout d'utuliser l'attribut, mais cela sert à prévenir le développeur que cet attribut ne devrait pas être utilisé."
   ]
  },
  {
   "cell_type": "code",
   "execution_count": 4,
   "metadata": {},
   "outputs": [
    {
     "name": "stdout",
     "output_type": "stream",
     "text": [
      "3\n",
      "6\n",
      "6\n",
      "1\n",
      "8\n",
      "1\n"
     ]
    }
   ],
   "source": [
    "class EntierAvecHistorique:\n",
    "    def __init__(self,x):\n",
    "        self._x = x\n",
    "        self.nb_modifications = 0\n",
    "        \n",
    "    def get_x(self):\n",
    "        return self._x\n",
    "    \n",
    "    def set_x(self,nvx):\n",
    "        self._x = nvx\n",
    "        self.nb_modifications += 1\n",
    "    \n",
    "        \n",
    "test = EntierAvecHistorique(3)\n",
    "print(test.get_x())\n",
    "test.set_x(3)\n",
    "print(test.get_x())\n",
    "print(test._x)\n",
    "print(test.nb_modifications)\n",
    "test._x += 2\n",
    "print(test._x)\n",
    "print(test.nb_modifications)\n"
   ]
  },
  {
   "cell_type": "code",
   "execution_count": 7,
   "metadata": {},
   "outputs": [
    {
     "name": "stdout",
     "output_type": "stream",
     "text": [
      "3\n",
      "3\n"
     ]
    },
    {
     "ename": "AttributeError",
     "evalue": "'EntierAvecHistorique' object has no attribute '__x'",
     "output_type": "error",
     "traceback": [
      "\u001b[1;31m---------------------------------------------------------------------------\u001b[0m",
      "\u001b[1;31mAttributeError\u001b[0m                            Traceback (most recent call last)",
      "\u001b[1;32m<ipython-input-7-641e65f92e36>\u001b[0m in \u001b[0;36m<module>\u001b[1;34m()\u001b[0m\n\u001b[0;32m     16\u001b[0m \u001b[0mtest\u001b[0m\u001b[1;33m.\u001b[0m\u001b[0mset_x\u001b[0m\u001b[1;33m(\u001b[0m\u001b[1;36m3\u001b[0m\u001b[1;33m)\u001b[0m\u001b[1;33m\u001b[0m\u001b[0m\n\u001b[0;32m     17\u001b[0m \u001b[0mprint\u001b[0m\u001b[1;33m(\u001b[0m\u001b[0mtest\u001b[0m\u001b[1;33m.\u001b[0m\u001b[0mget_x\u001b[0m\u001b[1;33m(\u001b[0m\u001b[1;33m)\u001b[0m\u001b[1;33m)\u001b[0m\u001b[1;33m\u001b[0m\u001b[0m\n\u001b[1;32m---> 18\u001b[1;33m \u001b[0mprint\u001b[0m\u001b[1;33m(\u001b[0m\u001b[0mtest\u001b[0m\u001b[1;33m.\u001b[0m\u001b[0m__x\u001b[0m\u001b[1;33m)\u001b[0m\u001b[1;33m\u001b[0m\u001b[0m\n\u001b[0m\u001b[0;32m     19\u001b[0m \u001b[0mprint\u001b[0m\u001b[1;33m(\u001b[0m\u001b[0mtest\u001b[0m\u001b[1;33m.\u001b[0m\u001b[0mnb_modifications\u001b[0m\u001b[1;33m)\u001b[0m\u001b[1;33m\u001b[0m\u001b[0m\n\u001b[0;32m     20\u001b[0m \u001b[0mtest\u001b[0m\u001b[1;33m.\u001b[0m\u001b[0m__x\u001b[0m \u001b[1;33m+=\u001b[0m \u001b[1;36m2\u001b[0m\u001b[1;33m\u001b[0m\u001b[0m\n",
      "\u001b[1;31mAttributeError\u001b[0m: 'EntierAvecHistorique' object has no attribute '__x'"
     ]
    }
   ],
   "source": [
    "class EntierAvecHistorique:\n",
    "    def __init__(self,x):\n",
    "        self.__x = x\n",
    "        self.nb_modifications = 0\n",
    "        \n",
    "    def get_x(self):\n",
    "        return self.__x\n",
    "    \n",
    "    def set_x(self,nvx):\n",
    "        self.__x = nvx\n",
    "        self.nb_modifications += 1\n",
    "    \n",
    "        \n",
    "test = EntierAvecHistorique(3)\n",
    "print(test.get_x())\n",
    "test.set_x(3)\n",
    "print(test.get_x())\n",
    "print(test.__x)\n",
    "print(test.nb_modifications)\n",
    "test.__x += 2\n",
    "print(test.__x)\n",
    "print(test.nb_modifications)\n"
   ]
  },
  {
   "cell_type": "code",
   "execution_count": 9,
   "metadata": {},
   "outputs": [
    {
     "name": "stdout",
     "output_type": "stream",
     "text": [
      "3\n",
      "4\n",
      "1\n",
      "6\n",
      "2\n"
     ]
    }
   ],
   "source": [
    "class EntierAvecHistorique:\n",
    "    def __init__(self,x):\n",
    "        self._x = x\n",
    "        self.nb_modifications = 0\n",
    "        \n",
    "    @property\n",
    "    def x(self):\n",
    "        return self._x\n",
    "    \n",
    "    @x.setter\n",
    "    def x(self,nvx):\n",
    "        self._x = nvx\n",
    "        self.nb_modifications += 1\n",
    "    \n",
    "        \n",
    "test = EntierAvecHistorique(3)\n",
    "print(test.x)\n",
    "test.x = 4\n",
    "print(test.x)\n",
    "print(test.nb_modifications)\n",
    "test.x += 2\n",
    "print(test.x)\n",
    "print(test.nb_modifications)\n"
   ]
  }
 ],
 "metadata": {
  "kernelspec": {
   "display_name": "Python 3",
   "language": "python",
   "name": "python3"
  },
  "language_info": {
   "codemirror_mode": {
    "name": "ipython",
    "version": 3
   },
   "file_extension": ".py",
   "mimetype": "text/x-python",
   "name": "python",
   "nbconvert_exporter": "python",
   "pygments_lexer": "ipython3",
   "version": "3.5.0"
  }
 },
 "nbformat": 4,
 "nbformat_minor": 2
}
